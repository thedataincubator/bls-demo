{
 "cells": [
  {
   "cell_type": "code",
   "execution_count": null,
   "metadata": {},
   "outputs": [],
   "source": [
    "from io import BytesIO\n",
    "import zipfile\n",
    "\n",
    "import ipywidgets\n",
    "import pandas as pd\n",
    "import requests\n",
    "\n",
    "import matplotlib.pyplot as plt\n",
    "import seaborn as sns\n",
    "\n",
    "sns.set()"
   ]
  },
  {
   "cell_type": "code",
   "execution_count": null,
   "metadata": {},
   "outputs": [],
   "source": [
    "def load_data(year):\n",
    "    url = 'https://www.bls.gov/oes/special.requests/oesm{}nat.zip'.format(year % 100)\n",
    "    resp = requests.get(url)\n",
    "    zf = zipfile.ZipFile(BytesIO(resp.content))\n",
    "    for fi in zf.filelist:\n",
    "        if fi.filename.rstrip('x').endswith('_dl.xls'):\n",
    "            f = zf.read(fi)\n",
    "            df = pd.read_excel(f)\n",
    "            df.columns = df.columns.str.lower()\n",
    "            df['year'] = year\n",
    "            return df\n",
    "    raise RuntimeError('Could not find correct Excel file within Zip archive.')"
   ]
  },
  {
   "cell_type": "code",
   "execution_count": null,
   "metadata": {},
   "outputs": [],
   "source": [
    "def load_years(years):\n",
    "    frames = []\n",
    "    for year in years:\n",
    "        df = load_data(year)\n",
    "        frames.append(df)\n",
    "    return frames"
   ]
  },
  {
   "cell_type": "code",
   "execution_count": null,
   "metadata": {},
   "outputs": [],
   "source": [
    "df_all = pd.concat(load_years(range(2011, 2021)))"
   ]
  },
  {
   "cell_type": "code",
   "execution_count": null,
   "metadata": {},
   "outputs": [],
   "source": [
    "df_all.info()"
   ]
  },
  {
   "cell_type": "code",
   "execution_count": null,
   "metadata": {},
   "outputs": [],
   "source": [
    "df_all['a_mean'].describe()"
   ]
  },
  {
   "cell_type": "code",
   "execution_count": null,
   "metadata": {},
   "outputs": [],
   "source": [
    "df_all['mean salary'] = pd.to_numeric(df_all['a_mean'], errors='coerce')"
   ]
  },
  {
   "cell_type": "code",
   "execution_count": null,
   "metadata": {},
   "outputs": [],
   "source": [
    "df_all['mean salary'].describe()"
   ]
  },
  {
   "cell_type": "code",
   "execution_count": null,
   "metadata": {},
   "outputs": [],
   "source": [
    "df_all['occ_code'].unique()"
   ]
  },
  {
   "cell_type": "code",
   "execution_count": null,
   "metadata": {},
   "outputs": [],
   "source": [
    "df_all['occ_code'].unique().shape"
   ]
  },
  {
   "cell_type": "code",
   "execution_count": null,
   "metadata": {},
   "outputs": [],
   "source": [
    "major_groups = df_all['occ_code'].str.endswith('0000')"
   ]
  },
  {
   "cell_type": "code",
   "execution_count": null,
   "metadata": {},
   "outputs": [],
   "source": [
    "major_groups"
   ]
  },
  {
   "cell_type": "code",
   "execution_count": null,
   "metadata": {},
   "outputs": [],
   "source": [
    "sns.lineplot(data=df_all[major_groups], x='year', y='mean salary', hue='occ_title')\n",
    "plt.legend(bbox_to_anchor=(1.05, 1), loc=2)"
   ]
  },
  {
   "cell_type": "code",
   "execution_count": null,
   "metadata": {},
   "outputs": [],
   "source": [
    "titles = sorted(list(df_all[major_groups]['occ_title'].unique()))"
   ]
  },
  {
   "cell_type": "code",
   "execution_count": null,
   "metadata": {},
   "outputs": [],
   "source": [
    "@ipywidgets.interact(title=titles)\n",
    "def plot_group(title=titles[0]):\n",
    "    ind = titles.index(title)\n",
    "    for t in titles[:ind] + titles[ind+1:] + [title]:\n",
    "        color = ('r' if t == title else '0.7')\n",
    "        df = df_all[df_all['occ_title'] == t]\n",
    "        plt.plot(df['year'], df['mean salary'], c=color)\n",
    "    plt.xlabel('year')\n",
    "    plt.ylabel('mean salary')"
   ]
  }
 ],
 "metadata": {
  "kernelspec": {
   "display_name": "Python 3",
   "language": "python",
   "name": "python3"
  },
  "language_info": {
   "codemirror_mode": {
    "name": "ipython",
    "version": 3
   },
   "file_extension": ".py",
   "mimetype": "text/x-python",
   "name": "python",
   "nbconvert_exporter": "python",
   "pygments_lexer": "ipython3",
   "version": "3.8.5"
  }
 },
 "nbformat": 4,
 "nbformat_minor": 4
}
